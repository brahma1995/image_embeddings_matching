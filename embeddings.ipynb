{
  "nbformat": 4,
  "nbformat_minor": 0,
  "metadata": {
    "colab": {
      "provenance": [],
      "authorship_tag": "ABX9TyMcJ06WddRLNueOJ4+g+Qyr",
      "include_colab_link": true
    },
    "kernelspec": {
      "name": "python3",
      "display_name": "Python 3"
    },
    "language_info": {
      "name": "python"
    }
  },
  "cells": [
    {
      "cell_type": "markdown",
      "metadata": {
        "id": "view-in-github",
        "colab_type": "text"
      },
      "source": [
        "<a href=\"https://colab.research.google.com/github/brahma1995/image_embeddings_matching/blob/main/embeddings.ipynb\" target=\"_parent\"><img src=\"https://colab.research.google.com/assets/colab-badge.svg\" alt=\"Open In Colab\"/></a>"
      ]
    },
    {
      "cell_type": "code",
      "source": [
        "import torch\n",
        "import torch.nn as nn\n",
        "import torchvision.models as models\n",
        "import torchvision.transforms as transforms\n",
        "from torch.autograd import Variable\n",
        "from PIL import Image"
      ],
      "metadata": {
        "id": "SVk-0Wq4DnTy"
      },
      "execution_count": null,
      "outputs": []
    },
    {
      "cell_type": "code",
      "source": [
        "pic_one = '/content/porcelain-dinner-plate-in-black-by-the-artment-porcelain-dinner-plate-in-black-by-the-artment-7mkfoj.jpg'\n",
        "pic_two = '/content/dinerhalf.jpg'"
      ],
      "metadata": {
        "id": "tqHbGZVBDx5E"
      },
      "execution_count": null,
      "outputs": []
    },
    {
      "cell_type": "code",
      "source": [
        "import torch\n",
        "from tqdm import tqdm\n",
        "from torchvision import models\n",
        "from torchvision import transforms\n",
        "\n",
        "# for this prototype we use no gpu, cuda= False and as model resnet18 to obtain feature vectors\n",
        "\n",
        "class Img2VecResnet18():\n",
        "    def __init__(self):\n",
        "\n",
        "        self.device = torch.device(\"cpu\")\n",
        "        self.numberFeatures = 512\n",
        "        self.modelName = \"resnet-18\"\n",
        "        self.model, self.featureLayer = self.getFeatureLayer()\n",
        "        self.model = self.model.to(self.device)\n",
        "        self.model.eval()\n",
        "        self.toTensor = transforms.ToTensor()\n",
        "\n",
        "        # normalize the resized images as expected by resnet18\n",
        "        # [0.485, 0.456, 0.406] --> normalized mean value of ImageNet, [0.229, 0.224, 0.225] std of ImageNet\n",
        "        self.normalize = transforms.Normalize(mean=[0.485, 0.456, 0.406], std=[0.229, 0.224, 0.225])\n",
        "\n",
        "    def getVec(self, img):\n",
        "        image = self.normalize(self.toTensor(img)).unsqueeze(0).to(self.device)\n",
        "        embedding = torch.zeros(1, self.numberFeatures, 1, 1)\n",
        "\n",
        "        def copyData(m, i, o): embedding.copy_(o.data)\n",
        "\n",
        "        h = self.featureLayer.register_forward_hook(copyData)\n",
        "        self.model(image)\n",
        "        h.remove()\n",
        "\n",
        "        return embedding.numpy()[0, :, 0, 0]\n",
        "\n",
        "    def getFeatureLayer(self):\n",
        "\n",
        "        cnnModel = models.resnet18(pretrained=True)\n",
        "        layer = cnnModel._modules.get('avgpool')\n",
        "        self.layer_output_size = 512\n",
        "\n",
        "        return cnnModel, layer\n",
        "\n",
        "\n"
      ],
      "metadata": {
        "id": "CBrBY_dbItnG"
      },
      "execution_count": null,
      "outputs": []
    },
    {
      "cell_type": "code",
      "source": [
        "# generate vectors for all the images in the set\n",
        "img2vec = Img2VecResnet18()\n",
        "Img1 = Image.open(pic_one)\n",
        "pic_one_vector  = img2vec.getVec(Img1)\n",
        "Img2 = Image.open(pic_two)\n",
        "pic_two_vector = img2vec.getVec(Img2)"
      ],
      "metadata": {
        "colab": {
          "base_uri": "https://localhost:8080/"
        },
        "id": "za4O-K53I2k5",
        "outputId": "b136be26-3fe9-4d9b-cf7f-82ca3e05540e"
      },
      "execution_count": null,
      "outputs": [
        {
          "output_type": "stream",
          "name": "stderr",
          "text": [
            "/usr/local/lib/python3.10/dist-packages/torchvision/models/_utils.py:208: UserWarning: The parameter 'pretrained' is deprecated since 0.13 and may be removed in the future, please use 'weights' instead.\n",
            "  warnings.warn(\n",
            "/usr/local/lib/python3.10/dist-packages/torchvision/models/_utils.py:223: UserWarning: Arguments other than a weight enum or `None` for 'weights' are deprecated since 0.13 and may be removed in the future. The current behavior is equivalent to passing `weights=ResNet18_Weights.IMAGENET1K_V1`. You can also use `weights=ResNet18_Weights.DEFAULT` to get the most up-to-date weights.\n",
            "  warnings.warn(msg)\n",
            "Downloading: \"https://download.pytorch.org/models/resnet18-f37072fd.pth\" to /root/.cache/torch/hub/checkpoints/resnet18-f37072fd.pth\n",
            "100%|██████████| 44.7M/44.7M [00:00<00:00, 49.7MB/s]\n"
          ]
        }
      ]
    },
    {
      "cell_type": "code",
      "source": [
        "import torch\n",
        "import torch.nn as nn\n",
        "\n",
        "# Assuming pic_one_vector and pic_two_vector are NumPy arrays\n",
        "pic_one_vector_tensor = torch.tensor(pic_one_vector, dtype=torch.float)\n",
        "pic_two_vector_tensor = torch.tensor(pic_two_vector, dtype=torch.float)\n",
        "\n",
        "# Create the nn.CosineSimilarity object\n",
        "cos = nn.CosineSimilarity(dim=1, eps=1e-6)\n",
        "\n",
        "# Calculate the cosine similarity between pic_one_vector and pic_two_vector\n",
        "cos_sim = cos(pic_one_vector_tensor.unsqueeze(0), pic_two_vector_tensor.unsqueeze(0))\n",
        "\n",
        "# Print the cosine similarity\n",
        "print('\\nCosine similarity: {0}\\n'.format(cos_sim.item()))\n"
      ],
      "metadata": {
        "colab": {
          "base_uri": "https://localhost:8080/"
        },
        "id": "Iyb5vByZJuIi",
        "outputId": "f8e9d279-c3d9-4c9b-8936-be0675f74108"
      },
      "execution_count": null,
      "outputs": [
        {
          "output_type": "stream",
          "name": "stdout",
          "text": [
            "\n",
            "Cosine similarity: 0.9903527498245239\n",
            "\n"
          ]
        }
      ]
    }
  ]
}